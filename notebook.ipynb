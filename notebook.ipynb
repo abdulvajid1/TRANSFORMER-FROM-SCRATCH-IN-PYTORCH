{
 "cells": [
  {
   "cell_type": "code",
   "execution_count": 1,
   "metadata": {},
   "outputs": [],
   "source": [
    "import torch\n",
    "import torch.nn as nn\n",
    "import math"
   ]
  },
  {
   "cell_type": "code",
   "execution_count": 118,
   "metadata": {},
   "outputs": [],
   "source": [
    "class InputEmbedding(nn.Module):\n",
    "    def __init__(self, d_model: int, vocab_size: int):\n",
    "        super().__init__()\n",
    "        self.d_model = d_model\n",
    "        self.vocab_size =  vocab_size\n",
    "        self.embedding = nn.Embedding(vocab_size,d_model)\n",
    "    \n",
    "    def forward(self, x):\n",
    "        return self.embedding(x)"
   ]
  },
  {
   "cell_type": "code",
   "execution_count": 119,
   "metadata": {},
   "outputs": [],
   "source": [
    "class PositionalEncoding(nn.Module):\n",
    "    \n",
    "    def __init__(self, d_model:int, seq_len:int, dropout:float):\n",
    "        super().__init__()\n",
    "        self.d_model = d_model\n",
    "        self.seq_len = seq_len\n",
    "        positional_encoding = torch.zeros(seq_len,d_model)\n",
    "        positions = torch.arange(0, seq_len, dtype=torch.float)\n",
    "        div_term = torch.exp(torch.arange(0,d_model,2) * (-math.log(10000)/d_model))\n",
    "        self.dropout = nn.Dropout(dropout)\n",
    "        \n",
    "        # Positonal encodings\n",
    "        positional_encoding[:,::2] = torch.sin(positions * div_term)\n",
    "        positional_encoding[:,1::2] = torch.cos(positions * div_term)\n",
    "        positional_encoding.unsqueeze_(0)\n",
    "\n",
    "        # make it non-trainable, does not consider as parameter\n",
    "        self.register_buffer('pe',positional_encoding)\n",
    "\n",
    "    def forward(self, x):\n",
    "        x = x + (self.pe[:,:x.size(1),:]).requires_grad_(False)\n",
    "        return self.dropout(x)\n"
   ]
  },
  {
   "cell_type": "code",
   "execution_count": 120,
   "metadata": {},
   "outputs": [],
   "source": [
    "class LayerNormalization(nn.Module):\n",
    "    def __init__(self, eps=10**-6):\n",
    "        super().__init__()\n",
    "        self.eps = eps\n",
    "        self.alpha = nn.Parameter(torch.ones(1)) # Scaling\n",
    "        self.bias = nn.Parameter(torch.zeros(1)) # Adding\n",
    "        \n",
    "    def forward(self,x):\n",
    "        mean = x.mean(dim=-1, keepdim=True)\n",
    "        std = x.std(dim=-1, keepdim=True)\n",
    "\n",
    "        return self.alpha * (x-mean)/(std+self.eps) + self.bias\n"
   ]
  },
  {
   "cell_type": "code",
   "execution_count": 121,
   "metadata": {},
   "outputs": [],
   "source": [
    "class FeedForwardBlock(nn.Module):\n",
    "    def __init__(self, d_model:int, dim_ff:int,dropout:float):\n",
    "        super().__init__()\n",
    "        self.ff1 = nn.Linear(d_model,dim_ff)\n",
    "        self.ff2 = nn.Linear(dim_ff,d_model)\n",
    "        self.dropout = nn.Dropout(dropout)\n",
    "        self.relu = nn.ReLU()\n",
    "\n",
    "    def forward(self,x):\n",
    "        x = self.ff1(x)\n",
    "        x = torch.relu(x)\n",
    "        x = self.dropout(x)\n",
    "        x = self.ff2(x)\n",
    "        return x"
   ]
  },
  {
   "cell_type": "code",
   "execution_count": null,
   "metadata": {},
   "outputs": [],
   "source": [
    "class MultiHeadAttention(nn.Module):\n",
    "    def __init__(self, d_model, heads:int=8, mask=None):\n",
    "        super().__init__()\n",
    "        # Initialize Q, K, V metrix\n",
    "        self.query_weights = nn.Linear(d_model,d_model)\n",
    "        self.key_weights = nn.Linear(d_model, d_model)\n",
    "        self.value_weights = nn.Linear(d_model, d_model)\n",
    "        self.heads = heads\n",
    "        assert d_model % heads == 0, \"d_model should be dividable by heads\"\n",
    "        self.d_k = d_model // self.heads\n",
    "        self.mask = mask\n",
    "\n",
    "        # output networl weights\n",
    "        self.output_weights = nn.Linear(d_model, d_model)\n",
    "    \n",
    "    @staticmethod\n",
    "    def attention_score(queries, keys, values, mask,d_k):\n",
    "        attention_score = (queries @ keys.transpose(-1,-2))/torch.sqrt(d_k)\n",
    "        if mask is not None:\n",
    "            attention_score.masked_fill_(mask==True, -1e9) # masking with very small value instead of '-inf'\n",
    "            \n",
    "        attention_score = attention_score.softmax(dim=-1)\n",
    "        return attention_score\n",
    "        \n",
    "\n",
    "\n",
    "    def forward(self,x, mask):\n",
    "        queries = self.query_weights(x) # (batch,seq,d_model)\n",
    "        keys = self.key_weights(x)\n",
    "        values = self.value_weights(x)\n",
    "\n",
    "        # Splitting heads\n",
    "        queries = queries.view(queries.size[0], queries.size[1], self.head, self.d_k) \n",
    "        queries = queries.transpose(1,2) \n",
    "\n",
    "        keys = keys.view(queries.size[0], queries.size[1], self.head, self.d_k) \n",
    "        keys = keys.transpose(1,2)\n",
    "\n",
    "        values = values.view(queries.size[0], queries.size[1], self.head, self.d_k) #(batchsize,seq,heads,d_k)\n",
    "        values = values.transpose(1,2) # (batch, head, seq, d_k)\n",
    "\n",
    "        # attention score\n",
    "        attention_scores = MultiHeadAttention.attention_score(queries, keys, values, self.mask, )\n",
    "\n",
    "        \n",
    "\n",
    "        \n",
    "        \n",
    "\n",
    "\n",
    "\n",
    "\n",
    "\n"
   ]
  },
  {
   "cell_type": "code",
   "execution_count": 212,
   "metadata": {},
   "outputs": [
    {
     "data": {
      "text/plain": [
       "-1000000000.0"
      ]
     },
     "execution_count": 212,
     "metadata": {},
     "output_type": "execute_result"
    }
   ],
   "source": [
    "-1e9"
   ]
  },
  {
   "cell_type": "code",
   "execution_count": 213,
   "metadata": {},
   "outputs": [
    {
     "ename": "AttributeError",
     "evalue": "'Tensor' object has no attribute 'softmax_'",
     "output_type": "error",
     "traceback": [
      "\u001b[1;31m---------------------------------------------------------------------------\u001b[0m",
      "\u001b[1;31mAttributeError\u001b[0m                            Traceback (most recent call last)",
      "Cell \u001b[1;32mIn[213], line 1\u001b[0m\n\u001b[1;32m----> 1\u001b[0m \u001b[43mtorch\u001b[49m\u001b[38;5;241;43m.\u001b[39;49m\u001b[43marange\u001b[49m\u001b[43m(\u001b[49m\u001b[38;5;241;43m30\u001b[39;49m\u001b[43m,\u001b[49m\u001b[43mdtype\u001b[49m\u001b[38;5;241;43m=\u001b[39;49m\u001b[43mtorch\u001b[49m\u001b[38;5;241;43m.\u001b[39;49m\u001b[43mfloat\u001b[49m\u001b[43m)\u001b[49m\u001b[38;5;241;43m.\u001b[39;49m\u001b[43msoftmax_\u001b[49m(dim\u001b[38;5;241m=\u001b[39m\u001b[38;5;241m-\u001b[39m\u001b[38;5;241m1\u001b[39m)\n",
      "\u001b[1;31mAttributeError\u001b[0m: 'Tensor' object has no attribute 'softmax_'"
     ]
    }
   ],
   "source": [
    "torch.arange(30,dtype=torch.float).softmax_(dim=-1)"
   ]
  },
  {
   "cell_type": "code",
   "execution_count": null,
   "metadata": {},
   "outputs": [],
   "source": []
  }
 ],
 "metadata": {
  "kernelspec": {
   "display_name": "GPU",
   "language": "python",
   "name": "python3"
  },
  "language_info": {
   "codemirror_mode": {
    "name": "ipython",
    "version": 3
   },
   "file_extension": ".py",
   "mimetype": "text/x-python",
   "name": "python",
   "nbconvert_exporter": "python",
   "pygments_lexer": "ipython3",
   "version": "3.8.20"
  }
 },
 "nbformat": 4,
 "nbformat_minor": 2
}
